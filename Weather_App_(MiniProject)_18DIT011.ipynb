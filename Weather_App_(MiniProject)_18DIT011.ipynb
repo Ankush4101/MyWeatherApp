{
 "cells": [
  {
   "cell_type": "markdown",
   "metadata": {},
   "source": [
    "# ID:18DIT011__Python Programming(5IT)__MiniProject"
   ]
  },
  {
   "cell_type": "markdown",
   "metadata": {},
   "source": [
    "# **********🌩*☀️*🌧 SMALL WEATHER APP 🌩*☀️*🌧*********"
   ]
  },
  {
   "cell_type": "markdown",
   "metadata": {},
   "source": [
    " Note:  +Internet is required because data is retrived from live weather api+"
   ]
  },
  {
   "cell_type": "code",
   "execution_count": 2,
   "metadata": {},
   "outputs": [],
   "source": [
    "import urllib.request, urllib.parse\n",
    "import json"
   ]
  },
  {
   "cell_type": "code",
   "execution_count": 3,
   "metadata": {},
   "outputs": [],
   "source": [
    "apikey ='c9e88c031ad7b2b35add18da771f53ee'\n",
    "serviceurl = 'https://api.openweathermap.org/data/2.5/weather?'\n",
    "Celsius= 'metric'"
   ]
  },
  {
   "cell_type": "code",
   "execution_count": 5,
   "metadata": {},
   "outputs": [
    {
     "name": "stdout",
     "output_type": "stream",
     "text": [
      "Enter City Name: anand\n"
     ]
    }
   ],
   "source": [
    "cityName=input('Enter City Name: ')"
   ]
  },
  {
   "cell_type": "code",
   "execution_count": 6,
   "metadata": {},
   "outputs": [
    {
     "name": "stdout",
     "output_type": "stream",
     "text": [
      "https://api.openweathermap.org/data/2.5/weather?\n"
     ]
    }
   ],
   "source": [
    "print(serviceurl)\n",
    "parameter = dict()\n",
    "parameter['q'] = cityName\n",
    "parameter['appid'] = apikey\n",
    "parameter['units'] = Celsius"
   ]
  },
  {
   "cell_type": "code",
   "execution_count": 7,
   "metadata": {},
   "outputs": [],
   "source": [
    " url = serviceurl + urllib.parse.urlencode(parameter) #it combine our dictionary to url"
   ]
  },
  {
   "cell_type": "code",
   "execution_count": 8,
   "metadata": {},
   "outputs": [
    {
     "name": "stdout",
     "output_type": "stream",
     "text": [
      "Retrieving https://api.openweathermap.org/data/2.5/weather?q=anand&appid=c9e88c031ad7b2b35add18da771f53ee&units=metric\n"
     ]
    }
   ],
   "source": [
    " print('Retrieving', url)"
   ]
  },
  {
   "cell_type": "code",
   "execution_count": 9,
   "metadata": {},
   "outputs": [
    {
     "name": "stdout",
     "output_type": "stream",
     "text": [
      "Retrieved 452 characters\n"
     ]
    }
   ],
   "source": [
    "uh = urllib.request.urlopen(url)\n",
    "data = uh.read().decode()\n",
    "print('Retrieved', len(data), 'characters')"
   ]
  },
  {
   "cell_type": "code",
   "execution_count": 12,
   "metadata": {},
   "outputs": [],
   "source": [
    "try:\n",
    "     js = json.loads(data)\n",
    "except:\n",
    "     js = None"
   ]
  },
  {
   "cell_type": "code",
   "execution_count": null,
   "metadata": {},
   "outputs": [],
   "source": []
  },
  {
   "cell_type": "code",
   "execution_count": null,
   "metadata": {},
   "outputs": [],
   "source": []
  },
  {
   "cell_type": "code",
   "execution_count": 13,
   "metadata": {},
   "outputs": [
    {
     "name": "stdout",
     "output_type": "stream",
     "text": [
      "{\n",
      "    \"coord\": {\n",
      "        \"lon\": 72.93,\n",
      "        \"lat\": 22.57\n",
      "    },\n",
      "    \"weather\": [\n",
      "        {\n",
      "            \"id\": 801,\n",
      "            \"main\": \"Clouds\",\n",
      "            \"description\": \"few clouds\",\n",
      "            \"icon\": \"02d\"\n",
      "        }\n",
      "    ],\n",
      "    \"base\": \"stations\",\n",
      "    \"main\": {\n",
      "        \"temp\": 30.67,\n",
      "        \"feels_like\": 34.38,\n",
      "        \"temp_min\": 30,\n",
      "        \"temp_max\": 32,\n",
      "        \"pressure\": 1008,\n",
      "        \"humidity\": 58\n",
      "    },\n",
      "    \"visibility\": 6000,\n",
      "    \"wind\": {\n",
      "        \"speed\": 1,\n",
      "        \"deg\": 270\n",
      "    },\n",
      "    \"clouds\": {\n",
      "        \"all\": 20\n",
      "    },\n",
      "    \"dt\": 1603432269,\n",
      "    \"sys\": {\n",
      "        \"type\": 1,\n",
      "        \"id\": 9060,\n",
      "        \"country\": \"IN\",\n",
      "        \"sunrise\": 1603415289,\n",
      "        \"sunset\": 1603456604\n",
      "    },\n",
      "    \"timezone\": 19800,\n",
      "    \"id\": 1278685,\n",
      "    \"name\": \"Anand\",\n",
      "    \"cod\": 200\n",
      "}\n"
     ]
    }
   ],
   "source": [
    " print(json.dumps(js,indent=4))"
   ]
  },
  {
   "cell_type": "code",
   "execution_count": 14,
   "metadata": {},
   "outputs": [
    {
     "name": "stdout",
     "output_type": "stream",
     "text": [
      "Anand\n",
      "latitude: 22.57\n",
      "longitude: 72.93\n",
      "temprature: 30.67 °C\n",
      "Condition: 801\n"
     ]
    }
   ],
   "source": [
    "lat = js['coord']['lat']\n",
    "lon = js['coord']['lon']\n",
    "temp = js['main']['temp']\n",
    "name = js['name']\n",
    "condition = js['weather'][0]['id'] \n",
    "print(name)\n",
    "print('latitude:', lat)\n",
    "print('longitude:',lon)\n",
    "print('temprature:',temp,'°C')\n",
    "print('Condition:',condition)"
   ]
  },
  {
   "cell_type": "code",
   "execution_count": 15,
   "metadata": {},
   "outputs": [],
   "source": [
    "\n",
    "def get_condition():\n",
    "    \n",
    "    if condition < 300 :\n",
    "        return '🌩';\n",
    "    elif condition < 400:\n",
    "        return '🌧';\n",
    "    elif condition < 600:\n",
    "        return '☔️';\n",
    "    elif condition < 700:\n",
    "         return '☃️';\n",
    "    elif condition < 800:\n",
    "         return '🌫';\n",
    "    elif condition == 800:\n",
    "         return '☀️';\n",
    "    elif condition <= 804:\n",
    "         return '☁️';\n",
    "    else:\n",
    "          return '🤷‍';\n",
    "    "
   ]
  },
  {
   "cell_type": "code",
   "execution_count": 19,
   "metadata": {},
   "outputs": [
    {
     "name": "stdout",
     "output_type": "stream",
     "text": [
      "☁️\n"
     ]
    }
   ],
   "source": [
    "Mycondition= get_condition();\n",
    "print(Mycondition)"
   ]
  },
  {
   "cell_type": "code",
   "execution_count": 20,
   "metadata": {},
   "outputs": [],
   "source": [
    "def get_message():\n",
    "    if temp>25:\n",
    "          return 'It\\'s 🍦 time';\n",
    "    elif temp>20:\n",
    "          return 'Time for shorts and 👕';\n",
    "    elif temp<10:\n",
    "          return 'You\\'ll need 🧣 and 🧤';\n",
    "    else:\n",
    "          return 'Bring a 🧥 just in case';\n",
    "    \n",
    "  "
   ]
  },
  {
   "cell_type": "code",
   "execution_count": 21,
   "metadata": {},
   "outputs": [
    {
     "name": "stdout",
     "output_type": "stream",
     "text": [
      "It's 🍦 time\n"
     ]
    }
   ],
   "source": [
    "Mymessage = get_message();\n",
    "print(Mymessage)"
   ]
  },
  {
   "cell_type": "markdown",
   "metadata": {},
   "source": [
    "# FINAL OUTPUT"
   ]
  },
  {
   "cell_type": "code",
   "execution_count": 24,
   "metadata": {},
   "outputs": [
    {
     "name": "stdout",
     "output_type": "stream",
     "text": [
      "*-----------------------------------------*\n",
      "*--------Welcome to Weather App-----------*\n",
      "*-----------------------------------------*\n",
      "To Day's weather in  Anand is:\n",
      "30.67 °C  ☁️\n",
      "It's 🍦 time in Anand\n",
      "*-----------------------------------------*\n"
     ]
    }
   ],
   "source": [
    "print('*-----------------------------------------*')\n",
    "print(\"*--------Welcome to Weather App-----------*\")\n",
    "print('*-----------------------------------------*')\n",
    "print(\"To Day's weather in \",name,\"is:\")\n",
    "print(temp,'°C ',Mycondition)\n",
    "print(Mymessage,'in',name)\n",
    "print('*-----------------------------------------*')"
   ]
  },
  {
   "cell_type": "code",
   "execution_count": null,
   "metadata": {},
   "outputs": [],
   "source": []
  }
 ],
 "metadata": {
  "kernelspec": {
   "display_name": "Python 3",
   "language": "python",
   "name": "python3"
  },
  "language_info": {
   "codemirror_mode": {
    "name": "ipython",
    "version": 3
   },
   "file_extension": ".py",
   "mimetype": "text/x-python",
   "name": "python",
   "nbconvert_exporter": "python",
   "pygments_lexer": "ipython3",
   "version": "3.7.6"
  }
 },
 "nbformat": 4,
 "nbformat_minor": 4
}
